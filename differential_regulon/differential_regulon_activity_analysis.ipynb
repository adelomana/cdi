{
 "cells": [
  {
   "cell_type": "code",
   "execution_count": 1,
   "metadata": {},
   "outputs": [],
   "source": [
    "import os, seaborn, pandas\n",
    "import matplotlib, matplotlib.pyplot\n",
    "%matplotlib inline\n",
    "matplotlib.rcParams['figure.figsize'] = [9, 6]\n",
    "matplotlib.rcParams['axes.labelsize'] = 25\n",
    "matplotlib.rcParams['xtick.labelsize'] = 17\n",
    "matplotlib.rcParams['ytick.labelsize'] = 17"
   ]
  },
  {
   "cell_type": "markdown",
   "metadata": {},
   "source": [
    "# 0. user-defined variables"
   ]
  },
  {
   "cell_type": "code",
   "execution_count": 2,
   "metadata": {},
   "outputs": [],
   "source": [
    "DEG_folder = '/Users/alopez/projects_isb/cdi/results/deseq2/filtered/'\n",
    "regulon_memberships_file = '/Users/alopez/projects_isb/cdi/results/miner/results_IA9/mechanistic_inference_results/regulons_annotated.csv'\n",
    "regulon_thresholds_file = '/Users/alopez/projects_isb/cdi/results/regulons/thresholds/results.txt'"
   ]
  },
  {
   "cell_type": "markdown",
   "metadata": {},
   "source": [
    "# 1. read data"
   ]
  },
  {
   "cell_type": "markdown",
   "metadata": {},
   "source": [
    "## 1.1. get DEG union"
   ]
  },
  {
   "cell_type": "code",
   "execution_count": 3,
   "metadata": {},
   "outputs": [
    {
     "name": "stdout",
     "output_type": "stream",
     "text": [
      "DEG found: 1967\n"
     ]
    }
   ],
   "source": [
    "degs = {}\n",
    "deg_union = []\n",
    "\n",
    "files = os.listdir(DEG_folder)\n",
    "deg_files = [DEG_folder+file for file in files if '.tsv' in file]\n",
    "\n",
    "for file in deg_files:\n",
    "    tag = file.split('_filtered')[0].split('/')[-1]\n",
    "    trend = tag.split('_')[-1]\n",
    "    condition = tag.split('_{}'.format(trend))[0]\n",
    "    \n",
    "    if condition not in degs:\n",
    "        degs[condition] = {}\n",
    "    if trend not in degs[condition]:\n",
    "        degs[condition][trend] = []\n",
    "    \n",
    "    with open(file, 'r') as f:\n",
    "        next(f)\n",
    "        for line in f:\n",
    "            v = line.split('\\t')\n",
    "            deg = v[0]\n",
    "\n",
    "            if deg not in deg_union:\n",
    "                deg_union.append(deg)\n",
    "            \n",
    "            degs[condition][trend].append(deg)\n",
    "                \n",
    "print('DEG found: {}'.format(len(deg_union)))"
   ]
  },
  {
   "cell_type": "markdown",
   "metadata": {},
   "source": [
    "## 1.2. get regulon memberships"
   ]
  },
  {
   "cell_type": "code",
   "execution_count": 4,
   "metadata": {},
   "outputs": [
    {
     "name": "stdout",
     "output_type": "stream",
     "text": [
      "regulon memberships for 3695 regulons\n"
     ]
    }
   ],
   "source": [
    "regulon_memberships = {} \n",
    "with open(regulon_memberships_file, 'r') as f:\n",
    "    next(f)\n",
    "    for line in f:\n",
    "        v = line.split(',')\n",
    "        regulon_id = int(v[1])\n",
    "        regulator = v[2]\n",
    "        gene = v[3].replace('\\n', '')\n",
    "        identifier = (regulon_id, regulator)\n",
    "        \n",
    "        if identifier not in regulon_memberships:\n",
    "            regulon_memberships[identifier] = [gene]\n",
    "        else:\n",
    "            regulon_memberships[identifier].append(gene)\n",
    "print('regulon memberships for {} regulons'.format(len(regulon_memberships)))"
   ]
  },
  {
   "cell_type": "markdown",
   "metadata": {},
   "source": [
    "## 1.3. get regulon DEG thresholds"
   ]
  },
  {
   "cell_type": "code",
   "execution_count": 5,
   "metadata": {},
   "outputs": [
    {
     "name": "stdout",
     "output_type": "stream",
     "text": [
      "{3: 2, 4: 2, 5: 2, 6: 2, 7: 2, 8: 2, 9: 2, 10: 3, 11: 3, 12: 3, 13: 3, 14: 3, 15: 3, 16: 3, 17: 3, 18: 3, 19: 3, 20: 3, 21: 3, 22: 3, 23: 4, 24: 4, 25: 4, 26: 4, 27: 4, 28: 4, 29: 4, 30: 4, 31: 4, 32: 4, 33: 4, 34: 4, 35: 4, 36: 4, 37: 5, 38: 5, 39: 5, 40: 5, 41: 5, 42: 5, 43: 5, 44: 5, 45: 5, 46: 5, 47: 5, 48: 5, 49: 5, 50: 5, 51: 5, 52: 5, 53: 6, 54: 6, 55: 6, 56: 6, 57: 6, 58: 6, 59: 6, 60: 6, 61: 6, 62: 6, 63: 6, 64: 6, 65: 6, 66: 6, 67: 6, 68: 6, 69: 6, 70: 7, 71: 7, 72: 7, 73: 7, 74: 7, 75: 7, 76: 7, 77: 7, 78: 7, 79: 7, 80: 7, 81: 7, 82: 7, 83: 7, 84: 7, 85: 7, 86: 7, 87: 7, 88: 8, 89: 8, 90: 8, 91: 8, 92: 8, 93: 8, 94: 8, 95: 8, 96: 8, 97: 8, 98: 8, 99: 8, 100: 8, 101: 8, 102: 8, 103: 8, 104: 8, 105: 8, 106: 9, 107: 9, 108: 9, 109: 9, 110: 9, 111: 9, 112: 9, 113: 9, 114: 9, 115: 9, 116: 9, 117: 9, 118: 9, 119: 9, 120: 9, 121: 9, 122: 9, 123: 9, 124: 9, 125: 10, 126: 10, 127: 10, 128: 10, 129: 10, 130: 10, 131: 10, 132: 10, 133: 10, 134: 10, 135: 10, 136: 10, 137: 10, 138: 10, 139: 10, 140: 10, 141: 10, 142: 10, 143: 10, 144: 10, 145: 11, 146: 11, 147: 11, 148: 11, 149: 11, 150: 11, 151: 11, 152: 11, 153: 11, 154: 11, 155: 11, 156: 11, 157: 11, 158: 11, 159: 11, 160: 11, 161: 11, 162: 11, 163: 11, 164: 12, 165: 12, 166: 12, 167: 12, 168: 12, 169: 12, 170: 12, 171: 12, 172: 12, 173: 12, 174: 12, 175: 12, 176: 12, 177: 12, 178: 12, 179: 12, 180: 12, 181: 12, 182: 12, 183: 12, 184: 13, 185: 13, 186: 13, 187: 13, 188: 13, 189: 13, 190: 13, 191: 13, 192: 13, 193: 13, 194: 13, 195: 13, 196: 13, 197: 13, 198: 13, 199: 13}\n"
     ]
    }
   ],
   "source": [
    "regulon_thresholds = {}\n",
    "with open(regulon_thresholds_file, 'r') as f:\n",
    "    next(f)\n",
    "    for line in f:\n",
    "        v = line.split()\n",
    "        regulon_size = int(v[0])\n",
    "        threshold = int(v[1])\n",
    "        regulon_thresholds[regulon_size] = threshold\n",
    "print(regulon_thresholds)"
   ]
  },
  {
   "cell_type": "markdown",
   "metadata": {},
   "source": [
    "# 2. define regulon activity based on DEGs"
   ]
  },
  {
   "cell_type": "markdown",
   "metadata": {},
   "source": [
    "## 2.1. define the regulons that have at least one DEG"
   ]
  },
  {
   "cell_type": "code",
   "execution_count": 6,
   "metadata": {},
   "outputs": [
    {
     "name": "stdout",
     "output_type": "stream",
     "text": [
      "685 regulons found\n",
      "[(0, 'ENSG00000012223'), (2, 'ENSG00000164330'), (3, 'ENSG00000164330'), (7, 'ENSG00000164330'), (9, 'ENSG00000164330'), (18, 'ENSG00000107485'), (24, 'ENSG00000107485'), (27, 'ENSG00000132170'), (31, 'ENSG00000132170'), (34, 'ENSG00000178573')]\n"
     ]
    },
    {
     "data": {
      "image/png": "[encoded data removed]",
      "text/plain": [
       "<Figure size 648x432 with 1 Axes>"
      ]
     },
     "metadata": {
      "needs_background": "light"
     },
     "output_type": "display_data"
    }
   ],
   "source": [
    "differential_regulons = []\n",
    "for regulon_identifier in regulon_memberships:\n",
    "    a = len(list(set(deg_union) & set(regulon_memberships[regulon_identifier])))\n",
    "    b = len(regulon_memberships[regulon_identifier])\n",
    "    proportion = a/b\n",
    "    if a >= regulon_thresholds[b]:\n",
    "        matplotlib.pyplot.plot(b, a, 'o', color='red', alpha=0.5, mew=0)\n",
    "        #print(count, regulon_identifier, a, b, proportion)\n",
    "        differential_regulons.append(regulon_identifier)\n",
    "    elif proportion > 0:\n",
    "        matplotlib.pyplot.plot(b, a, 'o', color='blue', alpha=0.25, mew=0)\n",
    "        \n",
    "print('{} regulons found'.format(len(differential_regulons)))\n",
    "print(differential_regulons[:10])\n",
    "        \n",
    "matplotlib.pyplot.plot(list(regulon_thresholds.keys()), list(regulon_thresholds.values()), '-', color='black', lw=1)\n",
    "matplotlib.pyplot.xlabel('regulon number of genes')\n",
    "matplotlib.pyplot.ylabel('DEGs in regulon')\n",
    "matplotlib.pyplot.tight_layout()"
   ]
  },
  {
   "cell_type": "code",
   "execution_count": 7,
   "metadata": {},
   "outputs": [
    {
     "name": "stdout",
     "output_type": "stream",
     "text": [
      "regulons: 685\n",
      "TFs: 271\n",
      "['ENSG00000176842', 'ENSG00000071564', 'ENSG00000185129', 'ENSG00000131196', 'ENSG00000141510', 'ENSG00000186350', 'ENSG00000118263', 'ENSG00000140044', 'ENSG00000141646', 'ENSG00000005889']\n"
     ]
    }
   ],
   "source": [
    "# check how many TFs are behid the selected regulons\n",
    "print('regulons: {}'.format(len(differential_regulons)))\n",
    "TFs = [element[1] for element in differential_regulons]\n",
    "unique = list(set(TFs))\n",
    "print('TFs: {}'.format(len(unique)))\n",
    "print(unique[:10])"
   ]
  },
  {
   "cell_type": "markdown",
   "metadata": {},
   "source": [
    "# 3. differential regulon activity"
   ]
  },
  {
   "cell_type": "code",
   "execution_count": 8,
   "metadata": {},
   "outputs": [
    {
     "name": "stdout",
     "output_type": "stream",
     "text": [
      "['mono_time_twentyfour_vs_time_zero', 'mono_time_one_vs_time_zero', 'mono_time_four_vs_time_zero', 'co_time_one_vs_time_zero', 'co_time_four_vs_time_zero']\n",
      "[(0, 'ENSG00000012223'), (2, 'ENSG00000164330'), (3, 'ENSG00000164330'), (7, 'ENSG00000164330'), (9, 'ENSG00000164330')]\n"
     ]
    }
   ],
   "source": [
    "ACTM = []\n",
    "conditions = list(degs.keys())\n",
    "\n",
    "print(conditions[:5])\n",
    "print(differential_regulons[:5])\n",
    "\n",
    "for condition in conditions:\n",
    "    row = []\n",
    "    upregulated_genes = degs[condition]['up']\n",
    "    downregulated_genes = degs[condition]['down']\n",
    "    \n",
    "    for regulon in differential_regulons:\n",
    "        \n",
    "        regulon_members = regulon_memberships[regulon]\n",
    "        regulon_size = len(regulon_members)\n",
    "        \n",
    "        # is_regulon_red\n",
    "        intersect = len(list(set(upregulated_genes) & set(regulon_members)))\n",
    "        #print(intersect, regulon_size, 'red')\n",
    "        if intersect >= regulon_thresholds[regulon_size]:\n",
    "            is_red = 1\n",
    "        else:\n",
    "            is_red = 0\n",
    "        \n",
    "        # is regulon_blue\n",
    "        intersect = len(list(set(downregulated_genes) & set(regulon_members)))\n",
    "        #print(intersect, regulon_size, 'blue')\n",
    "\n",
    "        if intersect >= regulon_thresholds[regulon_size]:\n",
    "            is_blue = 1\n",
    "        else:\n",
    "            is_blue = 0\n",
    "\n",
    "        # regulon activity\n",
    "        activity = is_red - is_blue\n",
    "        \n",
    "        # check that is not both up and down\n",
    "        if abs(activity) > 1:\n",
    "            raise ValueError('wow!')\n",
    "        \n",
    "        # append activities for each regulon\n",
    "        row.append(activity)\n",
    "    # append activities for a particular conditions\n",
    "    ACTM.append(row)"
   ]
  },
  {
   "cell_type": "code",
   "execution_count": 9,
   "metadata": {},
   "outputs": [
    {
     "data": {
      "text/plain": [
       "['mono_time_twentyfour_vs_time_zero',\n",
       " 'mono_time_one_vs_time_zero',\n",
       " 'mono_time_four_vs_time_zero',\n",
       " 'co_time_one_vs_time_zero',\n",
       " 'co_time_four_vs_time_zero',\n",
       " 'co_time_twentyfour_vs_time_zero',\n",
       " 'co_vs_mono_time_zero']"
      ]
     },
     "execution_count": 9,
     "metadata": {},
     "output_type": "execute_result"
    }
   ],
   "source": [
    "conditions"
   ]
  },
  {
   "cell_type": "code",
   "execution_count": 10,
   "metadata": {},
   "outputs": [
    {
     "data": {
      "image/png": "[encoded data removed]",
      "text/plain": [
       "<Figure size 648x432 with 1 Axes>"
      ]
     },
     "metadata": {
      "needs_background": "light"
     },
     "output_type": "display_data"
    }
   ],
   "source": [
    "matplotlib.pyplot.imshow(ACTM, cmap='bwr', vmin=-1, vmax=1, aspect='auto')\n",
    "\n",
    "matplotlib.pyplot.yticks(list(range(7)), conditions)\n",
    "matplotlib.pyplot.xlabel('Differential regulons')\n",
    "matplotlib.pyplot.ylabel('Conditions')\n",
    "matplotlib.pyplot.tight_layout()"
   ]
  },
  {
   "cell_type": "code",
   "execution_count": 11,
   "metadata": {},
   "outputs": [],
   "source": [
    "## 3.2 clustering"
   ]
  },
  {
   "cell_type": "code",
   "execution_count": 12,
   "metadata": {},
   "outputs": [
    {
     "data": {
      "text/html": [
       "<div>\n",
       "<style scoped>\n",
       "    .dataframe tbody tr th:only-of-type {\n",
       "        vertical-align: middle;\n",
       "    }\n",
       "\n",
       "    .dataframe tbody tr th {\n",
       "        vertical-align: top;\n",
       "    }\n",
       "\n",
       "    .dataframe thead th {\n",
       "        text-align: right;\n",
       "    }\n",
       "</style>\n",
       "<table border=\"1\" class=\"dataframe\">\n",
       "  <thead>\n",
       "    <tr style=\"text-align: right;\">\n",
       "      <th></th>\n",
       "      <th>sepal_length</th>\n",
       "      <th>sepal_width</th>\n",
       "      <th>petal_length</th>\n",
       "      <th>petal_width</th>\n",
       "      <th>species</th>\n",
       "    </tr>\n",
       "  </thead>\n",
       "  <tbody>\n",
       "    <tr>\n",
       "      <th>0</th>\n",
       "      <td>5.1</td>\n",
       "      <td>3.5</td>\n",
       "      <td>1.4</td>\n",
       "      <td>0.2</td>\n",
       "      <td>setosa</td>\n",
       "    </tr>\n",
       "    <tr>\n",
       "      <th>1</th>\n",
       "      <td>4.9</td>\n",
       "      <td>3.0</td>\n",
       "      <td>1.4</td>\n",
       "      <td>0.2</td>\n",
       "      <td>setosa</td>\n",
       "    </tr>\n",
       "    <tr>\n",
       "      <th>2</th>\n",
       "      <td>4.7</td>\n",
       "      <td>3.2</td>\n",
       "      <td>1.3</td>\n",
       "      <td>0.2</td>\n",
       "      <td>setosa</td>\n",
       "    </tr>\n",
       "    <tr>\n",
       "      <th>3</th>\n",
       "      <td>4.6</td>\n",
       "      <td>3.1</td>\n",
       "      <td>1.5</td>\n",
       "      <td>0.2</td>\n",
       "      <td>setosa</td>\n",
       "    </tr>\n",
       "    <tr>\n",
       "      <th>4</th>\n",
       "      <td>5.0</td>\n",
       "      <td>3.6</td>\n",
       "      <td>1.4</td>\n",
       "      <td>0.2</td>\n",
       "      <td>setosa</td>\n",
       "    </tr>\n",
       "    <tr>\n",
       "      <th>...</th>\n",
       "      <td>...</td>\n",
       "      <td>...</td>\n",
       "      <td>...</td>\n",
       "      <td>...</td>\n",
       "      <td>...</td>\n",
       "    </tr>\n",
       "    <tr>\n",
       "      <th>145</th>\n",
       "      <td>6.7</td>\n",
       "      <td>3.0</td>\n",
       "      <td>5.2</td>\n",
       "      <td>2.3</td>\n",
       "      <td>virginica</td>\n",
       "    </tr>\n",
       "    <tr>\n",
       "      <th>146</th>\n",
       "      <td>6.3</td>\n",
       "      <td>2.5</td>\n",
       "      <td>5.0</td>\n",
       "      <td>1.9</td>\n",
       "      <td>virginica</td>\n",
       "    </tr>\n",
       "    <tr>\n",
       "      <th>147</th>\n",
       "      <td>6.5</td>\n",
       "      <td>3.0</td>\n",
       "      <td>5.2</td>\n",
       "      <td>2.0</td>\n",
       "      <td>virginica</td>\n",
       "    </tr>\n",
       "    <tr>\n",
       "      <th>148</th>\n",
       "      <td>6.2</td>\n",
       "      <td>3.4</td>\n",
       "      <td>5.4</td>\n",
       "      <td>2.3</td>\n",
       "      <td>virginica</td>\n",
       "    </tr>\n",
       "    <tr>\n",
       "      <th>149</th>\n",
       "      <td>5.9</td>\n",
       "      <td>3.0</td>\n",
       "      <td>5.1</td>\n",
       "      <td>1.8</td>\n",
       "      <td>virginica</td>\n",
       "    </tr>\n",
       "  </tbody>\n",
       "</table>\n",
       "<p>150 rows × 5 columns</p>\n",
       "</div>"
      ],
      "text/plain": [
       "     sepal_length  sepal_width  petal_length  petal_width    species\n",
       "0             5.1          3.5           1.4          0.2     setosa\n",
       "1             4.9          3.0           1.4          0.2     setosa\n",
       "2             4.7          3.2           1.3          0.2     setosa\n",
       "3             4.6          3.1           1.5          0.2     setosa\n",
       "4             5.0          3.6           1.4          0.2     setosa\n",
       "..            ...          ...           ...          ...        ...\n",
       "145           6.7          3.0           5.2          2.3  virginica\n",
       "146           6.3          2.5           5.0          1.9  virginica\n",
       "147           6.5          3.0           5.2          2.0  virginica\n",
       "148           6.2          3.4           5.4          2.3  virginica\n",
       "149           5.9          3.0           5.1          1.8  virginica\n",
       "\n",
       "[150 rows x 5 columns]"
      ]
     },
     "execution_count": 12,
     "metadata": {},
     "output_type": "execute_result"
    }
   ],
   "source": [
    "iris = seaborn.load_dataset(\"iris\")\n",
    "iris"
   ]
  },
  {
   "cell_type": "code",
   "execution_count": 13,
   "metadata": {},
   "outputs": [
    {
     "data": {
      "text/html": [
       "<div>\n",
       "<style scoped>\n",
       "    .dataframe tbody tr th:only-of-type {\n",
       "        vertical-align: middle;\n",
       "    }\n",
       "\n",
       "    .dataframe tbody tr th {\n",
       "        vertical-align: top;\n",
       "    }\n",
       "\n",
       "    .dataframe thead th {\n",
       "        text-align: right;\n",
       "    }\n",
       "</style>\n",
       "<table border=\"1\" class=\"dataframe\">\n",
       "  <thead>\n",
       "    <tr style=\"text-align: right;\">\n",
       "      <th></th>\n",
       "      <th>0</th>\n",
       "      <th>1</th>\n",
       "      <th>2</th>\n",
       "      <th>3</th>\n",
       "      <th>4</th>\n",
       "      <th>5</th>\n",
       "      <th>6</th>\n",
       "      <th>7</th>\n",
       "      <th>8</th>\n",
       "      <th>9</th>\n",
       "      <th>...</th>\n",
       "      <th>675</th>\n",
       "      <th>676</th>\n",
       "      <th>677</th>\n",
       "      <th>678</th>\n",
       "      <th>679</th>\n",
       "      <th>680</th>\n",
       "      <th>681</th>\n",
       "      <th>682</th>\n",
       "      <th>683</th>\n",
       "      <th>684</th>\n",
       "    </tr>\n",
       "  </thead>\n",
       "  <tbody>\n",
       "    <tr>\n",
       "      <th>mono_time_twentyfour_vs_time_zero</th>\n",
       "      <td>0</td>\n",
       "      <td>0</td>\n",
       "      <td>0</td>\n",
       "      <td>0</td>\n",
       "      <td>-1</td>\n",
       "      <td>0</td>\n",
       "      <td>-1</td>\n",
       "      <td>0</td>\n",
       "      <td>-1</td>\n",
       "      <td>0</td>\n",
       "      <td>...</td>\n",
       "      <td>0</td>\n",
       "      <td>-1</td>\n",
       "      <td>0</td>\n",
       "      <td>0</td>\n",
       "      <td>0</td>\n",
       "      <td>-1</td>\n",
       "      <td>0</td>\n",
       "      <td>-1</td>\n",
       "      <td>0</td>\n",
       "      <td>0</td>\n",
       "    </tr>\n",
       "    <tr>\n",
       "      <th>mono_time_one_vs_time_zero</th>\n",
       "      <td>0</td>\n",
       "      <td>0</td>\n",
       "      <td>0</td>\n",
       "      <td>0</td>\n",
       "      <td>0</td>\n",
       "      <td>0</td>\n",
       "      <td>0</td>\n",
       "      <td>0</td>\n",
       "      <td>0</td>\n",
       "      <td>0</td>\n",
       "      <td>...</td>\n",
       "      <td>0</td>\n",
       "      <td>0</td>\n",
       "      <td>0</td>\n",
       "      <td>0</td>\n",
       "      <td>0</td>\n",
       "      <td>0</td>\n",
       "      <td>0</td>\n",
       "      <td>0</td>\n",
       "      <td>0</td>\n",
       "      <td>0</td>\n",
       "    </tr>\n",
       "    <tr>\n",
       "      <th>mono_time_four_vs_time_zero</th>\n",
       "      <td>0</td>\n",
       "      <td>0</td>\n",
       "      <td>0</td>\n",
       "      <td>0</td>\n",
       "      <td>0</td>\n",
       "      <td>0</td>\n",
       "      <td>0</td>\n",
       "      <td>0</td>\n",
       "      <td>0</td>\n",
       "      <td>0</td>\n",
       "      <td>...</td>\n",
       "      <td>0</td>\n",
       "      <td>0</td>\n",
       "      <td>0</td>\n",
       "      <td>0</td>\n",
       "      <td>0</td>\n",
       "      <td>0</td>\n",
       "      <td>0</td>\n",
       "      <td>0</td>\n",
       "      <td>0</td>\n",
       "      <td>0</td>\n",
       "    </tr>\n",
       "    <tr>\n",
       "      <th>co_time_one_vs_time_zero</th>\n",
       "      <td>0</td>\n",
       "      <td>0</td>\n",
       "      <td>0</td>\n",
       "      <td>0</td>\n",
       "      <td>0</td>\n",
       "      <td>0</td>\n",
       "      <td>0</td>\n",
       "      <td>0</td>\n",
       "      <td>0</td>\n",
       "      <td>0</td>\n",
       "      <td>...</td>\n",
       "      <td>0</td>\n",
       "      <td>0</td>\n",
       "      <td>0</td>\n",
       "      <td>0</td>\n",
       "      <td>0</td>\n",
       "      <td>0</td>\n",
       "      <td>0</td>\n",
       "      <td>0</td>\n",
       "      <td>0</td>\n",
       "      <td>0</td>\n",
       "    </tr>\n",
       "    <tr>\n",
       "      <th>co_time_four_vs_time_zero</th>\n",
       "      <td>0</td>\n",
       "      <td>0</td>\n",
       "      <td>0</td>\n",
       "      <td>0</td>\n",
       "      <td>0</td>\n",
       "      <td>0</td>\n",
       "      <td>0</td>\n",
       "      <td>0</td>\n",
       "      <td>0</td>\n",
       "      <td>0</td>\n",
       "      <td>...</td>\n",
       "      <td>0</td>\n",
       "      <td>0</td>\n",
       "      <td>0</td>\n",
       "      <td>0</td>\n",
       "      <td>0</td>\n",
       "      <td>0</td>\n",
       "      <td>0</td>\n",
       "      <td>0</td>\n",
       "      <td>0</td>\n",
       "      <td>0</td>\n",
       "    </tr>\n",
       "    <tr>\n",
       "      <th>co_time_twentyfour_vs_time_zero</th>\n",
       "      <td>1</td>\n",
       "      <td>0</td>\n",
       "      <td>0</td>\n",
       "      <td>1</td>\n",
       "      <td>0</td>\n",
       "      <td>1</td>\n",
       "      <td>0</td>\n",
       "      <td>1</td>\n",
       "      <td>0</td>\n",
       "      <td>1</td>\n",
       "      <td>...</td>\n",
       "      <td>0</td>\n",
       "      <td>0</td>\n",
       "      <td>0</td>\n",
       "      <td>0</td>\n",
       "      <td>-1</td>\n",
       "      <td>0</td>\n",
       "      <td>0</td>\n",
       "      <td>0</td>\n",
       "      <td>0</td>\n",
       "      <td>0</td>\n",
       "    </tr>\n",
       "    <tr>\n",
       "      <th>co_vs_mono_time_zero</th>\n",
       "      <td>0</td>\n",
       "      <td>0</td>\n",
       "      <td>0</td>\n",
       "      <td>0</td>\n",
       "      <td>0</td>\n",
       "      <td>0</td>\n",
       "      <td>0</td>\n",
       "      <td>0</td>\n",
       "      <td>0</td>\n",
       "      <td>0</td>\n",
       "      <td>...</td>\n",
       "      <td>0</td>\n",
       "      <td>0</td>\n",
       "      <td>0</td>\n",
       "      <td>0</td>\n",
       "      <td>0</td>\n",
       "      <td>0</td>\n",
       "      <td>0</td>\n",
       "      <td>0</td>\n",
       "      <td>0</td>\n",
       "      <td>0</td>\n",
       "    </tr>\n",
       "  </tbody>\n",
       "</table>\n",
       "<p>7 rows × 685 columns</p>\n",
       "</div>"
      ],
      "text/plain": [
       "                                   0    1    2    3    4    5    6    7    \\\n",
       "mono_time_twentyfour_vs_time_zero    0    0    0    0   -1    0   -1    0   \n",
       "mono_time_one_vs_time_zero           0    0    0    0    0    0    0    0   \n",
       "mono_time_four_vs_time_zero          0    0    0    0    0    0    0    0   \n",
       "co_time_one_vs_time_zero             0    0    0    0    0    0    0    0   \n",
       "co_time_four_vs_time_zero            0    0    0    0    0    0    0    0   \n",
       "co_time_twentyfour_vs_time_zero      1    0    0    1    0    1    0    1   \n",
       "co_vs_mono_time_zero                 0    0    0    0    0    0    0    0   \n",
       "\n",
       "                                   8    9    ...  675  676  677  678  679  \\\n",
       "mono_time_twentyfour_vs_time_zero   -1    0  ...    0   -1    0    0    0   \n",
       "mono_time_one_vs_time_zero           0    0  ...    0    0    0    0    0   \n",
       "mono_time_four_vs_time_zero          0    0  ...    0    0    0    0    0   \n",
       "co_time_one_vs_time_zero             0    0  ...    0    0    0    0    0   \n",
       "co_time_four_vs_time_zero            0    0  ...    0    0    0    0    0   \n",
       "co_time_twentyfour_vs_time_zero      0    1  ...    0    0    0    0   -1   \n",
       "co_vs_mono_time_zero                 0    0  ...    0    0    0    0    0   \n",
       "\n",
       "                                   680  681  682  683  684  \n",
       "mono_time_twentyfour_vs_time_zero   -1    0   -1    0    0  \n",
       "mono_time_one_vs_time_zero           0    0    0    0    0  \n",
       "mono_time_four_vs_time_zero          0    0    0    0    0  \n",
       "co_time_one_vs_time_zero             0    0    0    0    0  \n",
       "co_time_four_vs_time_zero            0    0    0    0    0  \n",
       "co_time_twentyfour_vs_time_zero      0    0    0    0    0  \n",
       "co_vs_mono_time_zero                 0    0    0    0    0  \n",
       "\n",
       "[7 rows x 685 columns]"
      ]
     },
     "execution_count": 13,
     "metadata": {},
     "output_type": "execute_result"
    }
   ],
   "source": [
    "df = pandas.DataFrame(ACTM)\n",
    "row_map = {}\n",
    "for i in range(len(conditions)):\n",
    "    row_map[i] = conditions[i]\n",
    "df.rename(index=row_map, inplace=True) \n",
    "df"
   ]
  },
  {
   "cell_type": "code",
   "execution_count": 17,
   "metadata": {},
   "outputs": [
    {
     "data": {
      "image/png": "[encoded data removed]",
      "text/plain": [
       "<Figure size 648x432 with 4 Axes>"
      ]
     },
     "metadata": {
      "needs_background": "light"
     },
     "output_type": "display_data"
    }
   ],
   "source": [
    "seaborn.clustermap(df, cmap=\"bwr\", vmin=-1, vmax=1, figsize=(9, 6))\n",
    "matplotlib.pyplot.tight_layout()\n",
    "\n",
    "klklk"
   ]
  },
  {
   "cell_type": "code",
   "execution_count": null,
   "metadata": {},
   "outputs": [],
   "source": []
  }
 ],
 "metadata": {
  "kernelspec": {
   "display_name": "Python 3",
   "language": "python",
   "name": "python3"
  },
  "language_info": {
   "codemirror_mode": {
    "name": "ipython",
    "version": 3
   },
   "file_extension": ".py",
   "mimetype": "text/x-python",
   "name": "python",
   "nbconvert_exporter": "python",
   "pygments_lexer": "ipython3",
   "version": "3.7.6"
  }
 },
 "nbformat": 4,
 "nbformat_minor": 4
}
