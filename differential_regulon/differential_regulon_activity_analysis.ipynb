{
 "cells": [
  {
   "cell_type": "code",
   "execution_count": 1,
   "metadata": {},
   "outputs": [],
   "source": [
    "# get regulon memberships\n",
    "# get DEG union\n",
    "# define regulon activity based on DEGs"
   ]
  },
  {
   "cell_type": "code",
   "execution_count": 2,
   "metadata": {},
   "outputs": [],
   "source": [
    "import os\n",
    "import matplotlib, matplotlib.pyplot"
   ]
  },
  {
   "cell_type": "markdown",
   "metadata": {},
   "source": [
    "# 0. user-defined variables"
   ]
  },
  {
   "cell_type": "code",
   "execution_count": 3,
   "metadata": {},
   "outputs": [],
   "source": [
    "DEG_folder = '/Users/alopez/projects_isb/cdi/results/deseq2/filtered/'\n",
    "regulon_memberships_file = '/Users/alopez/projects_isb/cdi/results/miner/results_IA9/mechanistic_inference_results/regulons_annotated.csv'"
   ]
  },
  {
   "cell_type": "markdown",
   "metadata": {},
   "source": [
    "# 1. get DEG union"
   ]
  },
  {
   "cell_type": "code",
   "execution_count": 4,
   "metadata": {},
   "outputs": [
    {
     "name": "stdout",
     "output_type": "stream",
     "text": [
      "DEG found: 1967\n"
     ]
    }
   ],
   "source": [
    "degs = []\n",
    "\n",
    "files = os.listdir(DEG_folder)\n",
    "deg_files = [DEG_folder+file for file in files if '.tsv' in file]\n",
    "\n",
    "for file in deg_files:\n",
    "    with open(file, 'r') as f:\n",
    "        next(f)\n",
    "        for line in f:\n",
    "            v = line.split('\\t')\n",
    "            deg = v[0]\n",
    "            if deg not in degs:\n",
    "                degs.append(deg)\n",
    "                \n",
    "print('DEG found: {}'.format(len(degs)))"
   ]
  },
  {
   "cell_type": "markdown",
   "metadata": {},
   "source": [
    "# 2. get regulon memberships"
   ]
  },
  {
   "cell_type": "code",
   "execution_count": 5,
   "metadata": {},
   "outputs": [
    {
     "name": "stdout",
     "output_type": "stream",
     "text": [
      "regulon memberships for 3695 regulons\n"
     ]
    }
   ],
   "source": [
    "regulon_memberships = {} \n",
    "with open(regulon_memberships_file, 'r') as f:\n",
    "    next(f)\n",
    "    for line in f:\n",
    "        v = line.split(',')\n",
    "        regulon_id = int(v[1])\n",
    "        regulator = v[2]\n",
    "        gene = v[3].replace('\\n', '')\n",
    "        identifier = (regulon_id, regulator)\n",
    "        \n",
    "        if identifier not in regulon_memberships:\n",
    "            regulon_memberships[identifier] = [gene]\n",
    "        else:\n",
    "            regulon_memberships[identifier].append(gene)\n",
    "print('regulon memberships for {} regulons'.format(len(regulon_memberships)))"
   ]
  },
  {
   "cell_type": "markdown",
   "metadata": {},
   "source": [
    "# 3. define regulon activity based on DEGs"
   ]
  },
  {
   "cell_type": "markdown",
   "metadata": {},
   "source": [
    "## 3.1. define the regulons that have at least one DEG"
   ]
  },
  {
   "cell_type": "code",
   "execution_count": 8,
   "metadata": {},
   "outputs": [
    {
     "name": "stdout",
     "output_type": "stream",
     "text": [
      "1 (204, 'ENSG00000101412')\n",
      "2 (409, 'ENSG00000128604')\n",
      "3 (432, 'ENSG00000173253')\n",
      "4 (1355, 'ENSG00000168310')\n",
      "5 (1464, 'ENSG00000068323')\n",
      "6 (1492, 'ENSG00000143799')\n",
      "7 (1517, 'ENSG00000170365')\n",
      "8 (1669, 'ENSG00000099326')\n",
      "9 (1986, 'ENSG00000185507')\n",
      "10 (2060, 'ENSG00000169689')\n",
      "11 (2423, 'ENSG00000213928')\n",
      "12 (2560, 'ENSG00000185670')\n",
      "13 (2886, 'ENSG00000090447')\n",
      "14 (2900, 'ENSG00000162676')\n",
      "15 (2917, 'ENSG00000197063')\n",
      "16 (3215, 'ENSG00000136630')\n",
      "17 (3235, 'ENSG00000177606')\n",
      "18 (3255, 'ENSG00000102974')\n",
      "19 (3451, 'ENSG00000196712')\n",
      "20 (3550, 'ENSG00000161940')\n",
      "21 (3665, 'ENSG00000198081')\n"
     ]
    },
    {
     "data": {
      "text/plain": [
       "Text(0, 0.5, 'DEGs in regulon')"
      ]
     },
     "execution_count": 8,
     "metadata": {},
     "output_type": "execute_result"
    },
    {
     "data": {
      "image/png": "[encoded data removed]",
      "text/plain": [
       "<Figure size 432x288 with 1 Axes>"
      ]
     },
     "metadata": {
      "needs_background": "light"
     },
     "output_type": "display_data"
    }
   ],
   "source": [
    "count = 0\n",
    "for regulon_identifier in regulon_memberships:\n",
    "    a = len(list(set(degs) & set(regulon_memberships[regulon_identifier])))\n",
    "    b = len(regulon_memberships[regulon_identifier])\n",
    "    proportion = a/b\n",
    "    if proportion > 0.5:\n",
    "        count = count + 1\n",
    "        matplotlib.pyplot.plot(b, a, 'o', color='red', alpha=0.5)\n",
    "        print(count, regulon_identifier)\n",
    "    elif proportion > 0:\n",
    "        matplotlib.pyplot.plot(b, a, 'o', color='blue', alpha=0.25)\n",
    "        \n",
    "matplotlib.pyplot.plot([2,175], [1,175/2], '-', color='black', lw=1)\n",
    "matplotlib.pyplot.xlabel('regulon number of genes')\n",
    "matplotlib.pyplot.ylabel('DEGs in regulon')"
   ]
  },
  {
   "cell_type": "code",
   "execution_count": null,
   "metadata": {},
   "outputs": [],
   "source": []
  }
 ],
 "metadata": {
  "kernelspec": {
   "display_name": "Python 3",
   "language": "python",
   "name": "python3"
  },
  "language_info": {
   "codemirror_mode": {
    "name": "ipython",
    "version": 3
   },
   "file_extension": ".py",
   "mimetype": "text/x-python",
   "name": "python",
   "nbconvert_exporter": "python",
   "pygments_lexer": "ipython3",
   "version": "3.7.6"
  }
 },
 "nbformat": 4,
 "nbformat_minor": 4
}
